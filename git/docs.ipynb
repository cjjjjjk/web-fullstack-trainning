{
 "cells": [
  {
   "cell_type": "markdown",
   "id": "3a605894",
   "metadata": {},
   "source": [
    "### 1. Các lệnh cơ bản của Linux"
   ]
  },
  {
   "cell_type": "markdown",
   "id": "08264c08",
   "metadata": {},
   "source": [
    "### 2. Các lệnh cơ bản của Git"
   ]
  },
  {
   "cell_type": "markdown",
   "id": "58f34ea1",
   "metadata": {},
   "source": [
    "### 3. Xử lý branch trong Git"
   ]
  },
  {
   "cell_type": "markdown",
   "id": "5217a162",
   "metadata": {},
   "source": [
    "### 4. Xử lý conflict Git"
   ]
  },
  {
   "cell_type": "markdown",
   "id": "a14e95ff",
   "metadata": {},
   "source": [
    "### 5. Git Flow"
   ]
  }
 ],
 "metadata": {
  "language_info": {
   "name": "python"
  }
 },
 "nbformat": 4,
 "nbformat_minor": 5
}
