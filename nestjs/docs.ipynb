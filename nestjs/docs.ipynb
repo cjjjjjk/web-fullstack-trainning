{
 "cells": [
  {
   "cell_type": "markdown",
   "id": "bba068ba",
   "metadata": {},
   "source": [
    "# **NESTJS**\n",
    "\n",
    "- [Cài đặt môi trường](#cài-đặt-môi-trường)  \n",
    "- [Routing](#routing-get-post-put-delete)  \n",
    "- [Middleware](#middleware)  \n",
    "- [REQ/RES](#request--response)  \n",
    "- [Tương tác DB](#tương-tác-db-database-migration)  \n",
    "- [Kiến trúc mã nguồn](#kiến-trúc-mã-nguồn)  \n",
    "- [Lifecycle](#lifecycle)  \n",
    "- [Authen/Author](#authen-author-jwt)  \n",
    "- [Exeption handle](#exception-handle)  \n",
    "\n",
    "**NESTJS**: Framework xây dựng ứng dụng phía máy chủ dựa trên nodejs, hỗ trợ toàn diện với typescript. Mục tiêu cung cấp kiến trúc modular, dễ quản lý, bảo trì, thử nghiệm và mở rộng.  "
   ]
  },
  {
   "cell_type": "markdown",
   "id": "d2e25080",
   "metadata": {},
   "source": [
    "### **CÀI ĐẶT MÔI TRƯỜNG**\n",
    "*Cài đặt môi trương nestjs với cli*\n",
    "```cmd\n",
    "$ npm i -g @nestjs/cli\n",
    "$ nest new project-name\n",
    "$ npm run start\n",
    "```\n",
    "*Ứng dụng mặc định triển khai chạy trên cổng 3000*  \n",
    "**MÔ HÌNH**  \n",
    "- NestJS dựa trên expressjs, nên mọi kỹ thuật áp dứng mô hình MVC đều phù hợp với nest.\n",
    "    - **M** *Model* : Dữ liệu, logic tổ chức dữ liệu nghiệp vụ: `Entity`, `Schema`, `Service`,... \n",
    "    - **V** *View*: Giao diện người dùng (Không trực tiếp trong nest - do REST API trả về json)\n",
    "    - **C** *Controler*: Xử lý logic, trả về kết quả : `@Controler()` \n",
    "- Tổ chức mô hình trong nest: \n",
    "    - `controller/`: Định tuyến request\n",
    "    -  Service: Logic xử lý \n",
    "    -  Entity/ Model: Thao tác lên DB, mỗi model có: Entity + Service + DTO, cung cấp khả năng mở rộng linh hoạt.\n",
    "\n",
    "    *Minh hoạ tổ chức file 1 module - user*  \n",
    "    src/  \n",
    "    ┣ users/  \n",
    "    ┃ ┣ dto/  \n",
    "    ┃ ┃  ┣ create-user.dto.ts     \n",
    "    ┃ ┃  ┣ delete-user.dto.ts    \n",
    "    ┃ ┃  ┗ ...   \n",
    "    ┃ ┣ users.module.ts  \n",
    "    ┃ ┣ users.controller.ts  \n",
    "    ┃ ┣ users.service.ts  \n",
    "    ┃ ┗ user.schema.ts  \n",
    "    ┗ ....\n",
    "\n",
    "\n",
    "**CÁC THÀNH PHẦN**  \n",
    "- **Routing**: (Định tuyến) - Cơ chế ánh xạ các URL lên các hàm xử lý phía máy chủ. KHi trình duyệt gửi req thông qua url, Nestjs định tuyến request đố đến 1 controler tương ứng với url nhận được.\n",
    "- **Middleware**: (Trung gian) - Xử lý trước khi đưa req vào controller.  \n",
    "- **Request/Response**: Các object yêu cầu/trả về giao tiếp giữa client và máy chủ  \n",
    "- **Provider & Dependency Injection**: \n",
    "    - **Provider**: Các class đều có khả ăng inject như service  \n",
    "    - **DI**: Các Constructor tự động đượ inject thông qua metadata\n",
    "- **DTO** (Data Transfer Object): Định nghĩa cấu trúc dữ liệu **gửi vào** trong params để thực hiện.  \n",
    "- **Guard**: Quyết định có cho phép request tiếp tục thực hiện hay không.  \n",
    "\n",
    "**Quy trình khởi tạo API**  \n",
    "```ts\n",
    "// src/main.ts\n",
    "// Tạo instance của ứng dụng nestjs dựa trên appmodule (module gốc)\n",
    "const app = await NestFactory.create(AppModule);\n",
    "await app.listen(PORT);\n",
    "// app.module.ts\n",
    "// Đăng ký: controler, provider\n",
    "@Module({\n",
    "  imports: [],\n",
    "  controllers: [AppController],\n",
    "  providers: [AppService],\n",
    "})\n",
    "export class AppModule {}\n",
    "// app.controller.ts \n",
    "@Controller() // không có tham số - Controller gốc\n",
    "export class AppController {\n",
    "  constructor(private readonly appService: AppService) {}\n",
    "\n",
    "  @Get()\n",
    "  getHello(): string {\n",
    "    return this.appService.getHello();\n",
    "  }\n",
    "}\n",
    "\n",
    "```  \n",
    "Khi api được gọi `GET http://localhost:3000/`,  \n",
    "AppControler - định nghĩa trống `@Controller()` tìm kiếm ánh xạ đến `@Get`,  \n",
    "Controller gọi tiếp đến `getHello()` trong appService"
   ]
  },
  {
   "cell_type": "markdown",
   "id": "b429e9e6",
   "metadata": {},
   "source": [
    "### **ROUTING (GET, POST, PUT, DELETE)**  \n",
    "*Bảng annotation*  \n",
    "| Annotation  | HTTP Method | Ý nghĩa                           | Ví dụ endpoint                    |\n",
    "| ----------- | ----------- | --------------------------------- | --------------------------------- |\n",
    "| `@Get()`    | GET         | Lấy dữ liệu                       | `@Get('users')` → `/users`        |\n",
    "| `@Post()`   | POST        | Tạo mới dữ liệu                   | `@Post('create')` → `/create`     |\n",
    "| `@Put()`    | PUT         | Cập nhật toàn bộ tài nguyên       | `@Put('user/:id')` → `/user/1`    |\n",
    "| `@Patch()`  | PATCH       | Cập nhật một phần tài nguyên      | `@Patch('user')` → `/user`        |\n",
    "| `@Delete()` | DELETE      | Xoá tài nguyên                    | `@Delete('user/:id')` → `/user/1` |\n",
    "| `@All()`    | Tất cả      | Chấp nhận mọi method (GET, POST…) | `@All('ping')` → `/ping`          |\n",
    "\n",
    "Kết hợp với controller để tạo thành endpoint hoàn chính: \"user/create\"  \n",
    "*Decorator lấy dữ liệu từ request*  \n",
    "| Decorator      | Lấy dữ liệu từ…                     | Cách sử dụng                           |\n",
    "| -------------- | ----------------------------------- | -------------------------------------- |\n",
    "| `@Body()`      | Body của request (POST, PUT, PATCH) | `create(@Body() dto: CreateUserDto)`   |\n",
    "| `@Param()`     | URL params (`:id`, `:name`,...)     | `get(@Param('id') id: string)`         |\n",
    "| `@Query()`     | Query string (`?name=value`)        | `get(@Query('name') name: string)`     |\n",
    "| `@Headers()`   | Header trong request                | `get(@Headers('authorization') token)` |\n",
    "| `@Ip()`        | Lấy địa chỉ IP của client           | `log(@Ip() clientIp)`                  |\n",
    "| `@HostParam()` | Lấy tham số host trong subdomain    | `get(@HostParam('account') account)`   | \n",
    "\n",
    "*Minh hoạ* \n",
    "```ts\n",
    "@Controller('user')\n",
    "export class UserController {\n",
    "    constructor(private userService: UserService) { }\n",
    "\n",
    "    // ... /user\n",
    "    @Post()\n",
    "    create(@Body() createUserDto: CreateUserDto) {\n",
    "        const res: UserSchema | \"error\" = this.userService.createNewUser(createUserDto);\n",
    "        return res\n",
    "    }\n",
    "\n",
    "    // ... /user/get-by-name?name=\n",
    "    @Get('get-by-name')\n",
    "    getUserByName(@Query('name') name: string): UserSchema {\n",
    "        return this.userService.getUserByName(name);\n",
    "    }\n",
    "}\n",
    "```\n"
   ]
  },
  {
   "cell_type": "markdown",
   "id": "9d4c0460",
   "metadata": {},
   "source": [
    "### **MIDDLEWARE**"
   ]
  },
  {
   "cell_type": "markdown",
   "id": "3226488d",
   "metadata": {},
   "source": [
    "### **REQUEST / RESPONSE**"
   ]
  },
  {
   "cell_type": "markdown",
   "id": "8688a073",
   "metadata": {},
   "source": [
    "### **TƯƠNG TÁC DB, DATABASE MIGRATION**"
   ]
  },
  {
   "cell_type": "markdown",
   "id": "0dc2ad43",
   "metadata": {},
   "source": [
    "### **KIẾN TRÚC MÃ NGUỒN**"
   ]
  },
  {
   "cell_type": "markdown",
   "id": "d932da50",
   "metadata": {},
   "source": [
    "### **LIFECYCLE**"
   ]
  },
  {
   "cell_type": "markdown",
   "id": "5d563741",
   "metadata": {},
   "source": [
    "### **AUTHEN/ AUTHOR (JWT)**"
   ]
  },
  {
   "cell_type": "markdown",
   "id": "f7b04e20",
   "metadata": {},
   "source": [
    "### **EXCEPTION HANDLE**"
   ]
  }
 ],
 "metadata": {
  "language_info": {
   "name": "python"
  }
 },
 "nbformat": 4,
 "nbformat_minor": 5
}
